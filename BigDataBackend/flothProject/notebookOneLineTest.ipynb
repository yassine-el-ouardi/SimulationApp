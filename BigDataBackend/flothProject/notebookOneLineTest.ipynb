{
 "cells": [
  {
   "cell_type": "code",
   "execution_count": 1,
   "metadata": {
    "execution": {
     "iopub.execute_input": "2024-05-16T12:41:46.297670Z",
     "iopub.status.busy": "2024-05-16T12:41:46.297670Z",
     "iopub.status.idle": "2024-05-16T12:42:03.716287Z",
     "shell.execute_reply": "2024-05-16T12:42:03.716287Z"
    }
   },
   "outputs": [
    {
     "name": "stdout",
     "output_type": "stream",
     "text": [
      "WARNING:tensorflow:From C:\\Users\\czeroo\\Desktop\\Managem App\\SimulationApp\\internship\\Lib\\site-packages\\keras\\src\\losses.py:2976: The name tf.losses.sparse_softmax_cross_entropy is deprecated. Please use tf.compat.v1.losses.sparse_softmax_cross_entropy instead.\n",
      "\n"
     ]
    }
   ],
   "source": [
    "import numpy as np\n",
    "import pandas as pd\n",
    "import tensorflow as tf\n",
    "from tensorflow.keras.models import load_model\n",
    "import joblib\n",
    "from IPython.display import display"
   ]
  },
  {
   "cell_type": "code",
   "execution_count": 2,
   "metadata": {
    "execution": {
     "iopub.execute_input": "2024-05-16T12:42:03.716287Z",
     "iopub.status.busy": "2024-05-16T12:42:03.716287Z",
     "iopub.status.idle": "2024-05-16T12:42:03.738869Z",
     "shell.execute_reply": "2024-05-16T12:42:03.738869Z"
    }
   },
   "outputs": [],
   "source": [
    "# Define the custom R^2 metric for the Keras model\n",
    "def r2_keras(output_index):\n",
    "    def r2(y_true, y_pred):\n",
    "        SS_res = tf.keras.backend.sum(tf.keras.backend.square(y_true[:, output_index] - y_pred[:, output_index]))\n",
    "        SS_tot = tf.keras.backend.sum(tf.keras.backend.square(y_true[:, output_index] - tf.keras.backend.mean(y_true[:, output_index])))\n",
    "        r2 = 1 - SS_res / (SS_tot + tf.keras.backend.epsilon())\n",
    "        return r2\n",
    "    r2.__name__ = f\"r2_{output_index}\"\n",
    "    return r2"
   ]
  },
  {
   "cell_type": "code",
   "execution_count": 3,
   "metadata": {
    "execution": {
     "iopub.execute_input": "2024-05-16T12:42:03.738869Z",
     "iopub.status.busy": "2024-05-16T12:42:03.738869Z",
     "iopub.status.idle": "2024-05-16T12:42:03.813620Z",
     "shell.execute_reply": "2024-05-16T12:42:03.813620Z"
    }
   },
   "outputs": [
    {
     "data": {
      "text/html": [
       "<div>\n",
       "<style scoped>\n",
       "    .dataframe tbody tr th:only-of-type {\n",
       "        vertical-align: middle;\n",
       "    }\n",
       "\n",
       "    .dataframe tbody tr th {\n",
       "        vertical-align: top;\n",
       "    }\n",
       "\n",
       "    .dataframe thead th {\n",
       "        text-align: right;\n",
       "    }\n",
       "</style>\n",
       "<table border=\"1\" class=\"dataframe\">\n",
       "  <thead>\n",
       "    <tr style=\"text-align: right;\">\n",
       "      <th></th>\n",
       "      <th>Net Volume</th>\n",
       "      <th>Pulp Area</th>\n",
       "      <th>Froth surface area</th>\n",
       "      <th>Froth thickness</th>\n",
       "      <th>Air Flow rate</th>\n",
       "      <th>R_inf Ccp</th>\n",
       "      <th>R_inf Gn</th>\n",
       "      <th>R_inf Po</th>\n",
       "      <th>R_inf Sp</th>\n",
       "      <th>k_max Ccp</th>\n",
       "      <th>...</th>\n",
       "      <th>Total Solids Flow_Feed</th>\n",
       "      <th>Total Liquid Flow_Feed</th>\n",
       "      <th>Pulp Volumetric Flow_Feed</th>\n",
       "      <th>Solids SG_Feed</th>\n",
       "      <th>Pulp SG_Feed</th>\n",
       "      <th>Solids Fraction_Feed</th>\n",
       "      <th>Cu_Feed</th>\n",
       "      <th>Fe_Feed</th>\n",
       "      <th>Pb_Feed</th>\n",
       "      <th>Zn_Feed</th>\n",
       "    </tr>\n",
       "  </thead>\n",
       "  <tbody>\n",
       "    <tr>\n",
       "      <th>0</th>\n",
       "      <td>48</td>\n",
       "      <td>28</td>\n",
       "      <td>20</td>\n",
       "      <td>250</td>\n",
       "      <td>18</td>\n",
       "      <td>30</td>\n",
       "      <td>85</td>\n",
       "      <td>20</td>\n",
       "      <td>17</td>\n",
       "      <td>2.2</td>\n",
       "      <td>...</td>\n",
       "      <td>100.0</td>\n",
       "      <td>155.0</td>\n",
       "      <td>184.1</td>\n",
       "      <td>3.49</td>\n",
       "      <td>1.39</td>\n",
       "      <td>15.55</td>\n",
       "      <td>3.46</td>\n",
       "      <td>15.48</td>\n",
       "      <td>5.2</td>\n",
       "      <td>4.03</td>\n",
       "    </tr>\n",
       "  </tbody>\n",
       "</table>\n",
       "<p>1 rows × 24 columns</p>\n",
       "</div>"
      ],
      "text/plain": [
       "  Net Volume Pulp Area Froth surface area Froth thickness Air Flow rate  \\\n",
       "0         48        28                 20             250            18   \n",
       "\n",
       "  R_inf Ccp R_inf Gn R_inf Po R_inf Sp k_max Ccp  ... Total Solids Flow_Feed  \\\n",
       "0        30       85       20       17       2.2  ...                  100.0   \n",
       "\n",
       "  Total Liquid Flow_Feed Pulp Volumetric Flow_Feed Solids SG_Feed  \\\n",
       "0                  155.0                     184.1           3.49   \n",
       "\n",
       "   Pulp SG_Feed  Solids Fraction_Feed  Cu_Feed  Fe_Feed  Pb_Feed  Zn_Feed  \n",
       "0          1.39                 15.55     3.46    15.48      5.2     4.03  \n",
       "\n",
       "[1 rows x 24 columns]"
      ]
     },
     "metadata": {},
     "output_type": "display_data"
    }
   ],
   "source": [
    "# Load the input\n",
    "json_input = ['48', '28', '20', '250', '18', '30', '85', '20', '17', '2.2', '2.2', '2.2', '2.2', '10', 100.0, 155.0, 184.1, 3.49, 1.39, 15.55, 3.46, 15.48, 5.2, 4.03]\n",
    "# Define the inputs and output for the model\n",
    "feature_names = ['Net Volume', 'Pulp Area', 'Froth surface area', 'Froth thickness',\n",
    "       'Air Flow rate', 'R_inf Ccp', 'R_inf Gn', 'R_inf Po', 'R_inf Sp',\n",
    "       'k_max Ccp', 'k_max Gn', 'k_maxPo', 'k_max Sp',\n",
    "       'Entrainement Savassi parameters', 'Total Solids Flow_Feed',\n",
    "       'Total Liquid Flow_Feed',\n",
    "       'Pulp Volumetric Flow_Feed', 'Solids SG_Feed', 'Pulp SG_Feed',\n",
    "       'Solids Fraction_Feed', 'Cu_Feed', 'Fe_Feed',\n",
    "       'Pb_Feed', 'Zn_Feed']\n",
    "\n",
    "input_df = pd.DataFrame([json_input], columns=feature_names)\n",
    "display(input_df)\n",
    "input_df.to_csv(\"inputOfModel.csv\")"
   ]
  },
  {
   "cell_type": "code",
   "execution_count": 4,
   "metadata": {
    "execution": {
     "iopub.execute_input": "2024-05-16T12:42:03.813620Z",
     "iopub.status.busy": "2024-05-16T12:42:03.813620Z",
     "iopub.status.idle": "2024-05-16T12:42:06.640266Z",
     "shell.execute_reply": "2024-05-16T12:42:06.640266Z"
    }
   },
   "outputs": [
    {
     "name": "stderr",
     "output_type": "stream",
     "text": [
      "C:\\Users\\czeroo\\Desktop\\Managem App\\SimulationApp\\internship\\Lib\\site-packages\\sklearn\\base.py:376: InconsistentVersionWarning: Trying to unpickle estimator MinMaxScaler from version 1.2.2 when using version 1.4.1.post1. This might lead to breaking code or invalid results. Use at your own risk. For more info please refer to:\n",
      "https://scikit-learn.org/stable/model_persistence.html#security-maintainability-limitations\n",
      "  warnings.warn(\n"
     ]
    },
    {
     "name": "stdout",
     "output_type": "stream",
     "text": [
      "WARNING:tensorflow:From C:\\Users\\czeroo\\Desktop\\Managem App\\SimulationApp\\internship\\Lib\\site-packages\\keras\\src\\backend.py:1398: The name tf.executing_eagerly_outside_functions is deprecated. Please use tf.compat.v1.executing_eagerly_outside_functions instead.\n",
      "\n"
     ]
    }
   ],
   "source": [
    "# Load scalers\n",
    "scalerX = joblib.load('scalerX_24.joblib')\n",
    "scalerY = joblib.load('scalerY_23.joblib')\n",
    "\n",
    "# Apply the scaler to the input data\n",
    "scaled_input = scalerX.transform(input_df)\n",
    "\n",
    "# Load the saved model\n",
    "custom_objects = {f'r2_{i}': r2_keras(i) for i in range(23)}\n",
    "model = load_model('model7_23.h5', custom_objects=custom_objects)"
   ]
  },
  {
   "cell_type": "code",
   "execution_count": 5,
   "metadata": {
    "execution": {
     "iopub.execute_input": "2024-05-16T12:42:06.643351Z",
     "iopub.status.busy": "2024-05-16T12:42:06.643351Z",
     "iopub.status.idle": "2024-05-16T12:42:07.194033Z",
     "shell.execute_reply": "2024-05-16T12:42:07.192873Z"
    }
   },
   "outputs": [
    {
     "name": "stdout",
     "output_type": "stream",
     "text": [
      "\r",
      "1/1 [==============================] - ETA: 0s"
     ]
    },
    {
     "name": "stdout",
     "output_type": "stream",
     "text": [
      "\b\b\b\b\b\b\b\b\b\b\b\b\b\b\b\b\b\b\b\b\b\b\b\b\b\b\b\b\b\b\b\b\b\b\b\b\b\b\b\b\b\b\b\b\b\b\r",
      "1/1 [==============================] - 0s 331ms/step\n"
     ]
    }
   ],
   "source": [
    "\n",
    "# Make predictions on the preprocessed input\n",
    "y_pred = model.predict(scaled_input)\n",
    "\n",
    "# Invert the scaling to get the original values of the predictions\n",
    "y_pred = scalerY.inverse_transform(y_pred)\n",
    "\n",
    "# Separate predictions into concentrate and tailing\n",
    "concentrate = y_pred[:, [3, 4, 5, 6, 7, 8, 19, 20, 21, 22]]\n",
    "tailing = y_pred[:, 9:19]"
   ]
  },
  {
   "cell_type": "code",
   "execution_count": 6,
   "metadata": {
    "execution": {
     "iopub.execute_input": "2024-05-16T12:42:07.196136Z",
     "iopub.status.busy": "2024-05-16T12:42:07.196136Z",
     "iopub.status.idle": "2024-05-16T12:42:07.258958Z",
     "shell.execute_reply": "2024-05-16T12:42:07.257353Z"
    }
   },
   "outputs": [
    {
     "data": {
      "text/html": [
       "<div>\n",
       "<style scoped>\n",
       "    .dataframe tbody tr th:only-of-type {\n",
       "        vertical-align: middle;\n",
       "    }\n",
       "\n",
       "    .dataframe tbody tr th {\n",
       "        vertical-align: top;\n",
       "    }\n",
       "\n",
       "    .dataframe thead th {\n",
       "        text-align: right;\n",
       "    }\n",
       "</style>\n",
       "<table border=\"1\" class=\"dataframe\">\n",
       "  <thead>\n",
       "    <tr style=\"text-align: right;\">\n",
       "      <th></th>\n",
       "      <th>totalSolidFlow</th>\n",
       "      <th>totalLiquidFlow</th>\n",
       "      <th>pulpVolumetricFlow</th>\n",
       "      <th>solidsSG</th>\n",
       "      <th>pulpSG</th>\n",
       "      <th>solidsFraction</th>\n",
       "      <th>cuPercentage</th>\n",
       "      <th>fePercentage</th>\n",
       "      <th>znPercentage</th>\n",
       "      <th>pbPercentage</th>\n",
       "    </tr>\n",
       "  </thead>\n",
       "  <tbody>\n",
       "    <tr>\n",
       "      <th>0</th>\n",
       "      <td>193.55983</td>\n",
       "      <td>184.913101</td>\n",
       "      <td>314.806366</td>\n",
       "      <td>5.83245</td>\n",
       "      <td>1.406989</td>\n",
       "      <td>11.47348</td>\n",
       "      <td>7.819666</td>\n",
       "      <td>23.483473</td>\n",
       "      <td>53.844097</td>\n",
       "      <td>4.851144</td>\n",
       "    </tr>\n",
       "  </tbody>\n",
       "</table>\n",
       "</div>"
      ],
      "text/plain": [
       "   totalSolidFlow  totalLiquidFlow  pulpVolumetricFlow  solidsSG    pulpSG  \\\n",
       "0       193.55983       184.913101          314.806366   5.83245  1.406989   \n",
       "\n",
       "   solidsFraction  cuPercentage  fePercentage  znPercentage  pbPercentage  \n",
       "0        11.47348      7.819666     23.483473     53.844097      4.851144  "
      ]
     },
     "metadata": {},
     "output_type": "display_data"
    },
    {
     "data": {
      "text/html": [
       "<div>\n",
       "<style scoped>\n",
       "    .dataframe tbody tr th:only-of-type {\n",
       "        vertical-align: middle;\n",
       "    }\n",
       "\n",
       "    .dataframe tbody tr th {\n",
       "        vertical-align: top;\n",
       "    }\n",
       "\n",
       "    .dataframe thead th {\n",
       "        text-align: right;\n",
       "    }\n",
       "</style>\n",
       "<table border=\"1\" class=\"dataframe\">\n",
       "  <thead>\n",
       "    <tr style=\"text-align: right;\">\n",
       "      <th></th>\n",
       "      <th>totalSolidFlow</th>\n",
       "      <th>totalLiquidFlow</th>\n",
       "      <th>pulpVolumetricFlow</th>\n",
       "      <th>solidsSG</th>\n",
       "      <th>pulpSG</th>\n",
       "      <th>solidsFraction</th>\n",
       "      <th>cuPercentage</th>\n",
       "      <th>fePercentage</th>\n",
       "      <th>znPercentage</th>\n",
       "      <th>pbPercentage</th>\n",
       "    </tr>\n",
       "  </thead>\n",
       "  <tbody>\n",
       "    <tr>\n",
       "      <th>0</th>\n",
       "      <td>25.719416</td>\n",
       "      <td>106.410049</td>\n",
       "      <td>94.665367</td>\n",
       "      <td>4.038092</td>\n",
       "      <td>2.189166</td>\n",
       "      <td>42.752033</td>\n",
       "      <td>7.104559</td>\n",
       "      <td>26.736698</td>\n",
       "      <td>9.65136</td>\n",
       "      <td>8.587224</td>\n",
       "    </tr>\n",
       "  </tbody>\n",
       "</table>\n",
       "</div>"
      ],
      "text/plain": [
       "   totalSolidFlow  totalLiquidFlow  pulpVolumetricFlow  solidsSG    pulpSG  \\\n",
       "0       25.719416       106.410049           94.665367  4.038092  2.189166   \n",
       "\n",
       "   solidsFraction  cuPercentage  fePercentage  znPercentage  pbPercentage  \n",
       "0       42.752033      7.104559     26.736698       9.65136      8.587224  "
      ]
     },
     "metadata": {},
     "output_type": "display_data"
    }
   ],
   "source": [
    "# Define the keys for the outputs\n",
    "concentrate_keys = [\n",
    "    'totalSolidFlow', 'totalLiquidFlow', 'pulpVolumetricFlow', \n",
    "    'solidsSG', 'pulpSG', 'solidsFraction', \n",
    "    'cuPercentage', 'fePercentage', 'znPercentage', 'pbPercentage'\n",
    "]\n",
    "\n",
    "tailing_keys = [\n",
    "    'totalSolidFlow', 'totalLiquidFlow', 'pulpVolumetricFlow', \n",
    "    'solidsSG', 'pulpSG', 'solidsFraction', \n",
    "    'cuPercentage', 'fePercentage', 'znPercentage', 'pbPercentage'\n",
    "]\n",
    "\n",
    "# Create dataframes for concentrate and tailing\n",
    "concentrate_df = pd.DataFrame(concentrate, columns=concentrate_keys)\n",
    "tailing_df = pd.DataFrame(tailing, columns=tailing_keys)\n",
    "\n",
    "# Display the dataframes\n",
    "display(concentrate_df)\n",
    "display(tailing_df)"
   ]
  },
  {
   "cell_type": "code",
   "execution_count": 7,
   "metadata": {
    "execution": {
     "iopub.execute_input": "2024-05-16T12:42:07.261045Z",
     "iopub.status.busy": "2024-05-16T12:42:07.261045Z",
     "iopub.status.idle": "2024-05-16T12:42:07.313169Z",
     "shell.execute_reply": "2024-05-16T12:42:07.313169Z"
    }
   },
   "outputs": [
    {
     "data": {
      "text/html": [
       "<div>\n",
       "<style scoped>\n",
       "    .dataframe tbody tr th:only-of-type {\n",
       "        vertical-align: middle;\n",
       "    }\n",
       "\n",
       "    .dataframe tbody tr th {\n",
       "        vertical-align: top;\n",
       "    }\n",
       "\n",
       "    .dataframe thead th {\n",
       "        text-align: right;\n",
       "    }\n",
       "</style>\n",
       "<table border=\"1\" class=\"dataframe\">\n",
       "  <thead>\n",
       "    <tr style=\"text-align: right;\">\n",
       "      <th></th>\n",
       "      <th>Air Efficiency</th>\n",
       "      <th>Flotation Rate: Cell 1</th>\n",
       "      <th>Entrainment: Cell 1</th>\n",
       "      <th>Total Solids Flow_Concentrate</th>\n",
       "      <th>Total Liquid Flow_Concentrate</th>\n",
       "      <th>Pulp Volumetric Flow_Concentrate</th>\n",
       "      <th>Solids SG_Concentrate</th>\n",
       "      <th>Pulp SG_Concentrate</th>\n",
       "      <th>Solids Fraction_Concentrate</th>\n",
       "      <th>Total Solids Flow_Tailings</th>\n",
       "      <th>...</th>\n",
       "      <th>Pulp SG_Tailings</th>\n",
       "      <th>Solids Fraction_Tailings</th>\n",
       "      <th>Cu_Tails</th>\n",
       "      <th>Fe_Tails</th>\n",
       "      <th>Pb_Tails</th>\n",
       "      <th>Zn_Tails</th>\n",
       "      <th>Cu_Concentrate</th>\n",
       "      <th>Fe_Concentrate</th>\n",
       "      <th>Pb_Concentrate</th>\n",
       "      <th>Zn_Concentrate</th>\n",
       "    </tr>\n",
       "  </thead>\n",
       "  <tbody>\n",
       "    <tr>\n",
       "      <th>0</th>\n",
       "      <td>213.212067</td>\n",
       "      <td>0.887549</td>\n",
       "      <td>0.377299</td>\n",
       "      <td>193.55983</td>\n",
       "      <td>184.913101</td>\n",
       "      <td>314.806366</td>\n",
       "      <td>5.83245</td>\n",
       "      <td>1.406989</td>\n",
       "      <td>11.47348</td>\n",
       "      <td>25.719416</td>\n",
       "      <td>...</td>\n",
       "      <td>2.189166</td>\n",
       "      <td>42.752033</td>\n",
       "      <td>7.104559</td>\n",
       "      <td>26.736698</td>\n",
       "      <td>9.65136</td>\n",
       "      <td>8.587224</td>\n",
       "      <td>7.819666</td>\n",
       "      <td>23.483473</td>\n",
       "      <td>53.844097</td>\n",
       "      <td>4.851144</td>\n",
       "    </tr>\n",
       "  </tbody>\n",
       "</table>\n",
       "<p>1 rows × 23 columns</p>\n",
       "</div>"
      ],
      "text/plain": [
       "   Air Efficiency  Flotation Rate: Cell 1  Entrainment: Cell 1  \\\n",
       "0      213.212067                0.887549             0.377299   \n",
       "\n",
       "   Total Solids Flow_Concentrate  Total Liquid Flow_Concentrate  \\\n",
       "0                      193.55983                     184.913101   \n",
       "\n",
       "   Pulp Volumetric Flow_Concentrate  Solids SG_Concentrate  \\\n",
       "0                        314.806366                5.83245   \n",
       "\n",
       "   Pulp SG_Concentrate  Solids Fraction_Concentrate  \\\n",
       "0             1.406989                     11.47348   \n",
       "\n",
       "   Total Solids Flow_Tailings  ...  Pulp SG_Tailings  \\\n",
       "0                   25.719416  ...          2.189166   \n",
       "\n",
       "   Solids Fraction_Tailings  Cu_Tails   Fe_Tails  Pb_Tails  Zn_Tails  \\\n",
       "0                 42.752033  7.104559  26.736698   9.65136  8.587224   \n",
       "\n",
       "   Cu_Concentrate  Fe_Concentrate  Pb_Concentrate  Zn_Concentrate  \n",
       "0        7.819666       23.483473       53.844097        4.851144  \n",
       "\n",
       "[1 rows x 23 columns]"
      ]
     },
     "metadata": {},
     "output_type": "display_data"
    }
   ],
   "source": [
    "# Define the output columns for the prediction table\n",
    "output_columns = [\n",
    "    'Air Efficiency', 'Flotation Rate: Cell 1', 'Entrainment: Cell 1', \n",
    "    'Total Solids Flow_Concentrate', 'Total Liquid Flow_Concentrate', \n",
    "    'Pulp Volumetric Flow_Concentrate', 'Solids SG_Concentrate', \n",
    "    'Pulp SG_Concentrate', 'Solids Fraction_Concentrate', \n",
    "    'Total Solids Flow_Tailings', 'Total Liquid Flow_Tailings', \n",
    "    'Pulp Volumetric Flow_Tailings', 'Solids SG_Tailings', \n",
    "    'Pulp SG_Tailings', 'Solids Fraction_Tailings', \n",
    "    'Cu_Tails', 'Fe_Tails', 'Pb_Tails', 'Zn_Tails', \n",
    "    'Cu_Concentrate', 'Fe_Concentrate', 'Pb_Concentrate', 'Zn_Concentrate'\n",
    "]\n",
    "\n",
    "# Create and display the prediction table\n",
    "prediction_table = pd.DataFrame(y_pred, columns=output_columns)\n",
    "display(prediction_table)\n",
    "\n",
    "# Save the prediction table to a CSV file\n",
    "prediction_table.to_csv('OutputOfSecondCell.csv', index=False)"
   ]
  }
 ],
 "metadata": {
  "language_info": {
   "codemirror_mode": {
    "name": "ipython",
    "version": 3
   },
   "file_extension": ".py",
   "mimetype": "text/x-python",
   "name": "python",
   "nbconvert_exporter": "python",
   "pygments_lexer": "ipython3",
   "version": "3.11.2"
  }
 },
 "nbformat": 4,
 "nbformat_minor": 2
}
