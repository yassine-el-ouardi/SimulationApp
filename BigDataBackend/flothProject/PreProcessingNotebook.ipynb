{
 "cells": [
  {
   "cell_type": "code",
   "execution_count": null,
   "metadata": {
    "execution": {
     "iopub.execute_input": "2024-05-08T13:45:21.114107Z",
     "iopub.status.busy": "2024-05-08T13:45:21.114107Z",
     "iopub.status.idle": "2024-05-08T13:45:24.517999Z",
     "shell.execute_reply": "2024-05-08T13:45:24.517413Z"
    }
   },
   "outputs": [],
   "source": [
    "import pandas as pd\n",
    "\n",
    "# Load the data and skip the first and third rows, using the second row as column headers\n",
    "scenarios_data = pd.read_excel('Scenarios_CMG_Highlighted.xlsx', sheet_name=\"Feuil1\", header=1)\n",
    "scenarios_data = scenarios_data.drop(scenarios_data.index[1])  # Drops the third row which is now index 1 after skipping the first row\n",
    "\n",
    "scenarios_data = scenarios_data.iloc[:, :16]\n",
    "\n",
    "# Rename the columns\n",
    "scenarios_data.columns = [\n",
    "    'Total Solids Flow', 'Total Liquid Flow', 'Total Gas Flow', 'Pulp Mass Flow',\n",
    "    'Pulp Volumetric Flow', 'Solids SG', 'Liquid SG', 'Pulp SG', '% Solids',\n",
    "    'Solids Fraction', 'Solids Recovery', 'Liquid Recovery', 'Cu', 'Fe', 'Pb', 'Zn'\n",
    "]\n",
    "\n",
    "# Define the additional data based on the provided details\n",
    "additional_data = {\n",
    "    'Net Volume': 48,\n",
    "    'Pulp Area': 28,\n",
    "    'Froth surface area': 20,\n",
    "    'Froth thickness': 250,\n",
    "    'Air Flow rate': 18,\n",
    "    'R_inf Ccp': None,\n",
    "    'R_inf Gn': None,\n",
    "    'R_inf Po': None,\n",
    "    'R_inf Sp': None,\n",
    "    'k_max Ccp': None,\n",
    "    'k_max Gn': None,\n",
    "    'k_maxPo': None,\n",
    "    'k_max Sp': None,\n",
    "    'Entrainement Savassi parameters': None,\n",
    "    'Total Solids Flow_Feed': scenarios_data['Total Solids Flow'],\n",
    "    'Total Liquid Flow_Feed': scenarios_data['Total Liquid Flow'],\n",
    "    'Pulp Volumetric Flow_Feed': scenarios_data['Pulp Volumetric Flow'],\n",
    "    'Solids SG_Feed': scenarios_data['Solids SG'],\n",
    "    'Pulp SG_Feed': scenarios_data['Pulp SG'],\n",
    "    'Solids Fraction_Feed': scenarios_data['Solids Fraction'],\n",
    "    'Cu_Feed': scenarios_data['Cu'],\n",
    "    'Fe_Feed': scenarios_data['Fe'],\n",
    "    'Pb_Feed': scenarios_data['Pb'],\n",
    "    'Zn_Feed': scenarios_data['Zn']\n",
    "}\n",
    "\n",
    "# Create a DataFrame from the additional data\n",
    "additional_data_df = pd.DataFrame(additional_data, index=scenarios_data.index)\n",
    "\n",
    "# Combine the original data with the additional data\n",
    "combined_data = pd.concat([scenarios_data, additional_data_df], axis=1)\n",
    "\n",
    "# Save the combined data to a new CSV\n",
    "combined_data.to_csv('complete_test_data.csv', index=False)\n"
   ]
  },
  {
   "cell_type": "code",
   "execution_count": null,
   "metadata": {},
   "outputs": [],
   "source": [
    "pd.head(10)"
   ]
  }
 ],
 "metadata": {
  "language_info": {
   "codemirror_mode": {
    "name": "ipython",
    "version": 3
   },
   "file_extension": ".py",
   "mimetype": "text/x-python",
   "name": "python",
   "nbconvert_exporter": "python",
   "pygments_lexer": "ipython3",
   "version": "3.11.2"
  }
 },
 "nbformat": 4,
 "nbformat_minor": 2
}
