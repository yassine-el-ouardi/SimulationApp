{
 "cells": [
  {
   "cell_type": "code",
   "execution_count": 1,
   "id": "0a247751",
   "metadata": {},
   "outputs": [],
   "source": [
    "import pandas as pd\n",
    "\n",
    "# Read the Excel file\n",
    "df = pd.read_excel(\"Full dataset.xlsx\")\n",
    "\n",
    "# Convert the DataFrame to JSON\n"
   ]
  },
  {
   "cell_type": "code",
   "execution_count": 2,
   "id": "fcb1578d",
   "metadata": {},
   "outputs": [],
   "source": [
    "df_new = df[['Net Volume', 'Pulp Area', 'Froth surface area', 'Froth thickness', 'Air Flow rate', 'R_inf Ccp', 'R_inf Gn', 'R_inf Po', 'R_inf Sp', 'k_max Ccp', 'k_max Gn', 'k_maxPo', 'k_max Sp', 'Entrainement Savassi parameters', 'Total Solids Flow_Feed', 'Total Liquid Flow_Feed', 'Pulp Volumetric Flow_Feed', 'Solids SG_Feed', 'Pulp SG_Feed', 'Solids Fraction_Feed', 'Cu_Feed', 'Fe_Feed', 'Pb_Feed', 'Zn_Feed']]\n"
   ]
  },
  {
   "cell_type": "code",
   "execution_count": 3,
   "id": "1c8f53c7",
   "metadata": {},
   "outputs": [
    {
     "name": "stdout",
     "output_type": "stream",
     "text": [
      "<class 'pandas.core.frame.DataFrame'>\n",
      "RangeIndex: 3805 entries, 0 to 3804\n",
      "Data columns (total 24 columns):\n",
      " #   Column                           Non-Null Count  Dtype  \n",
      "---  ------                           --------------  -----  \n",
      " 0   Net Volume                       3805 non-null   float64\n",
      " 1   Pulp Area                        3805 non-null   float64\n",
      " 2   Froth surface area               3805 non-null   float64\n",
      " 3   Froth thickness                  3805 non-null   float64\n",
      " 4   Air Flow rate                    3805 non-null   float64\n",
      " 5   R_inf Ccp                        3805 non-null   float64\n",
      " 6   R_inf Gn                         3805 non-null   float64\n",
      " 7   R_inf Po                         3805 non-null   float64\n",
      " 8   R_inf Sp                         3805 non-null   float64\n",
      " 9   k_max Ccp                        3805 non-null   float64\n",
      " 10  k_max Gn                         3805 non-null   float64\n",
      " 11  k_maxPo                          3805 non-null   float64\n",
      " 12  k_max Sp                         3805 non-null   float64\n",
      " 13  Entrainement Savassi parameters  3805 non-null   float64\n",
      " 14  Total Solids Flow_Feed           3805 non-null   float64\n",
      " 15  Total Liquid Flow_Feed           3805 non-null   float64\n",
      " 16  Pulp Volumetric Flow_Feed        3805 non-null   float64\n",
      " 17  Solids SG_Feed                   3805 non-null   float64\n",
      " 18  Pulp SG_Feed                     3805 non-null   float64\n",
      " 19  Solids Fraction_Feed             3805 non-null   float64\n",
      " 20  Cu_Feed                          3805 non-null   float64\n",
      " 21  Fe_Feed                          3805 non-null   float64\n",
      " 22  Pb_Feed                          3805 non-null   float64\n",
      " 23  Zn_Feed                          3805 non-null   float64\n",
      "dtypes: float64(24)\n",
      "memory usage: 713.6 KB\n"
     ]
    }
   ],
   "source": [
    "df_new.info()"
   ]
  },
  {
   "cell_type": "code",
   "execution_count": 4,
   "id": "970c81db",
   "metadata": {},
   "outputs": [
    {
     "name": "stdout",
     "output_type": "stream",
     "text": [
      "<class 'pandas.core.frame.DataFrame'>\n",
      "Index: 3 entries, 1959 to 564\n",
      "Data columns (total 24 columns):\n",
      " #   Column                           Non-Null Count  Dtype  \n",
      "---  ------                           --------------  -----  \n",
      " 0   Net Volume                       3 non-null      float64\n",
      " 1   Pulp Area                        3 non-null      float64\n",
      " 2   Froth surface area               3 non-null      float64\n",
      " 3   Froth thickness                  3 non-null      float64\n",
      " 4   Air Flow rate                    3 non-null      float64\n",
      " 5   R_inf Ccp                        3 non-null      float64\n",
      " 6   R_inf Gn                         3 non-null      float64\n",
      " 7   R_inf Po                         3 non-null      float64\n",
      " 8   R_inf Sp                         3 non-null      float64\n",
      " 9   k_max Ccp                        3 non-null      float64\n",
      " 10  k_max Gn                         3 non-null      float64\n",
      " 11  k_maxPo                          3 non-null      float64\n",
      " 12  k_max Sp                         3 non-null      float64\n",
      " 13  Entrainement Savassi parameters  3 non-null      float64\n",
      " 14  Total Solids Flow_Feed           3 non-null      float64\n",
      " 15  Total Liquid Flow_Feed           3 non-null      float64\n",
      " 16  Pulp Volumetric Flow_Feed        3 non-null      float64\n",
      " 17  Solids SG_Feed                   3 non-null      float64\n",
      " 18  Pulp SG_Feed                     3 non-null      float64\n",
      " 19  Solids Fraction_Feed             3 non-null      float64\n",
      " 20  Cu_Feed                          3 non-null      float64\n",
      " 21  Fe_Feed                          3 non-null      float64\n",
      " 22  Pb_Feed                          3 non-null      float64\n",
      " 23  Zn_Feed                          3 non-null      float64\n",
      "dtypes: float64(24)\n",
      "memory usage: 600.0 bytes\n"
     ]
    }
   ],
   "source": [
    "rows_for_prediction = df_new.sample(3)\n",
    "rows_for_prediction.info()"
   ]
  },
  {
   "cell_type": "code",
   "execution_count": 5,
   "id": "dc702a8b",
   "metadata": {},
   "outputs": [
    {
     "name": "stdout",
     "output_type": "stream",
     "text": [
      "{\"columns\":[\"Net Volume\",\"Pulp Area\",\"Froth surface area\",\"Froth thickness\",\"Air Flow rate\",\"R_inf Ccp\",\"R_inf Gn\",\"R_inf Po\",\"R_inf Sp\",\"k_max Ccp\",\"k_max Gn\",\"k_maxPo\",\"k_max Sp\",\"Entrainement Savassi parameters\",\"Total Solids Flow_Feed\",\"Total Liquid Flow_Feed\",\"Pulp Volumetric Flow_Feed\",\"Solids SG_Feed\",\"Pulp SG_Feed\",\"Solids Fraction_Feed\",\"Cu_Feed\",\"Fe_Feed\",\"Pb_Feed\",\"Zn_Feed\"],\"index\":[1959,3380,564],\"data\":[[82.0148492464,31.7241341762,28.5517207586,18.1455844049,10.0646439305,32.0247912143,80.1577270177,19.7775512081,13.7799090478,1.751043396,1.7146302694,2.0660454008,1.9117405965,44.351308948,389.9437827797,621.0115657339,704.6163977706,4.7704331868,1.4347598945,11.600893422,5.4864368155,17.5063003958,25.9603555326,7.5562582744],[76.6159411463,37.5996591553,33.8396932398,24.8197329333,9.5595953932,29.0330046944,77.7723869137,18.4726550596,14.9536965975,2.0332952417,1.6090313038,1.1739781412,2.9664450749,63.2588174537,159.4032511945,169.7739625486,208.9235745986,4.1253119613,1.5755867397,18.4949401888,4.3955308633,18.4473641572,11.6374077533,10.8171160665],[105.1026605881,41.7547363665,37.5792627298,19.6529141669,8.5512095957,27.7350181846,79.9506983061,20.6020500894,15.7513547239,2.4175694661,1.2761724,1.8649183067,1.225428734,65.2298648421,470.7912595658,733.0612077797,831.2175983469,4.906262641,1.4483000237,11.544174129,5.1961557954,19.7398483429,29.0244896487,5.6169926017]]}\n"
     ]
    }
   ],
   "source": [
    "json_data = rows_for_prediction.to_json(orient='split')\n",
    "print(json_data)"
   ]
  },
  {
   "cell_type": "code",
   "execution_count": 6,
   "id": "309419e5",
   "metadata": {},
   "outputs": [],
   "source": [
    "with open('prediction_data.json', 'w') as file:\n",
    "    file.write(json_data)\n"
   ]
  },
  {
   "cell_type": "code",
   "execution_count": null,
   "id": "37bbd822",
   "metadata": {},
   "outputs": [],
   "source": []
  }
 ],
 "metadata": {
  "kernelspec": {
   "display_name": "Python 3 (ipykernel)",
   "language": "python",
   "name": "python3"
  },
  "language_info": {
   "codemirror_mode": {
    "name": "ipython",
    "version": 3
   },
   "file_extension": ".py",
   "mimetype": "text/x-python",
   "name": "python",
   "nbconvert_exporter": "python",
   "pygments_lexer": "ipython3",
   "version": "3.11.2"
  }
 },
 "nbformat": 4,
 "nbformat_minor": 5
}
